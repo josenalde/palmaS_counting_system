{
 "cells": [
  {
   "cell_type": "markdown",
   "id": "iraqi-hungary",
   "metadata": {},
   "source": [
    "<img src='standard_1.png'>\n",
    "\n",
    "Área Total: $200 \\times 200 = 40.000$ px (40k)\n",
    "\n",
    "Raio aproximado (estimativa visual e com auxílio no mspaint e imageJ): $R=50$ px\n",
    "\n",
    "Área interna ao contorno: $\\pi R^2 = 3,1418 \\times 50^2 = 7.854$ px\n",
    "\n",
    "Perímetro: $2 \\pi R = 2 \\times 3,1418 \\times 50 = 314,18$\n",
    "\n",
    "Área estimada do objeto ocupada em relação ao todo: $7.854/40.000=19,63\\%$"
   ]
  },
  {
   "cell_type": "code",
   "execution_count": 54,
   "id": "composite-makeup",
   "metadata": {},
   "outputs": [
    {
     "name": "stdout",
     "output_type": "stream",
     "text": [
      "Encontrei 1 contornos\n",
      "Area: 8165.0\n",
      "Perimetro: 337.7056255340576\n",
      "Area estimada do objeto preenchido em relação à área total: 20.4125 %\n"
     ]
    }
   ],
   "source": [
    "import cv2 as cv\n",
    "import numpy as np\n",
    "import matplotlib.pyplot as plt\n",
    "\n",
    "#IMAGEM VAZADA\n",
    "file = 'standard_1.png'\n",
    "bgr = cv.imread(file, cv.IMREAD_UNCHANGED) \n",
    "gray = cv.cvtColor(bgr, cv.COLOR_BGR2GRAY)\n",
    "ret, th = cv.threshold(gray, 0, 255,cv.THRESH_BINARY + cv.THRESH_OTSU)\n",
    "#cv.imwrite('standard_1_th.png',th);\n",
    "\n",
    "cnt, hierarchy = cv.findContours(th, cv.RETR_EXTERNAL, cv.CHAIN_APPROX_SIMPLE)\n",
    "\n",
    "print('Encontrei ' + str(len(cnt)) + ' contornos')\n",
    "area = cv.contourArea(cnt[0])\n",
    "perimeter = cv.arcLength(cnt[0],True) #if not convex, False\n",
    "\n",
    "print('Area: ' + str(area))\n",
    "print('Perimetro: ' + str(perimeter))\n",
    "\n",
    "print('Area estimada do objeto preenchido em relação à área total: ' + str((area/40000)*100) + ' %')\n",
    "\n",
    "cv.drawContours(bgr, cnt, -1, (0,242,255), 2); #unico contorno 0\n",
    "cv.imshow('contours', bgr)\n",
    "cv.waitKey(0)\n",
    "cv.destroyAllWindows()\n"
   ]
  },
  {
   "cell_type": "code",
   "execution_count": 55,
   "id": "going-fiction",
   "metadata": {},
   "outputs": [
    {
     "name": "stdout",
     "output_type": "stream",
     "text": [
      "Encontrei 1 contornos\n",
      "Area: 8165.0\n",
      "Perimetro: 337.7056255340576\n",
      "Area estimada do objeto preenchido em relação à área total: 20.4125 %\n"
     ]
    }
   ],
   "source": [
    "import cv2 as cv\n",
    "import numpy as np\n",
    "import matplotlib.pyplot as plt\n",
    "\n",
    "#IMAGEM PREENCHIDA\n",
    "file = 'standard_2.png'\n",
    "bgr = cv.imread(file, cv.IMREAD_UNCHANGED) \n",
    "gray = cv.cvtColor(bgr, cv.COLOR_BGR2GRAY)\n",
    "ret, th = cv.threshold(gray, 0, 255,cv.THRESH_BINARY + cv.THRESH_OTSU)\n",
    "#cv.imwrite('standard_2_th.png',th);\n",
    "\n",
    "cnt, hierarchy = cv.findContours(th, cv.RETR_EXTERNAL, cv.CHAIN_APPROX_SIMPLE)\n",
    "\n",
    "print('Encontrei ' + str(len(cnt)) + ' contornos')\n",
    "area = cv.contourArea(cnt[0])\n",
    "perimeter = cv.arcLength(cnt[0],True) #if not convex, False\n",
    "\n",
    "print('Area: ' + str(area))\n",
    "print('Perimetro: ' + str(perimeter))\n",
    "\n",
    "print('Area estimada do objeto preenchido em relação à área total: ' + str((area/40000)*100) + ' %')\n",
    "\n",
    "cv.drawContours(bgr, cnt, -1, (0,242,255), 2); #unico contorno 0\n",
    "cv.imshow('contours', bgr)\n",
    "cv.waitKey(0)\n",
    "cv.destroyAllWindows()\n"
   ]
  }
 ],
 "metadata": {
  "kernelspec": {
   "display_name": "Python 3",
   "language": "python",
   "name": "python3"
  },
  "language_info": {
   "codemirror_mode": {
    "name": "ipython",
    "version": 3
   },
   "file_extension": ".py",
   "mimetype": "text/x-python",
   "name": "python",
   "nbconvert_exporter": "python",
   "pygments_lexer": "ipython3",
   "version": "3.8.5"
  }
 },
 "nbformat": 4,
 "nbformat_minor": 5
}
