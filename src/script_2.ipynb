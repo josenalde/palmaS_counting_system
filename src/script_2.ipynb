{
 "cells": [
  {
   "cell_type": "code",
   "execution_count": 45,
   "id": "answering-shoulder",
   "metadata": {},
   "outputs": [],
   "source": [
    "import cv2 as cv\n",
    "import numpy as np\n",
    "import matplotlib.pyplot as plt\n",
    "#%matplotlib notebook #exibe opções de manipulação\n",
    "#%matplotlib inline #se usar pyplot"
   ]
  },
  {
   "cell_type": "code",
   "execution_count": 200,
   "id": "unlike-dating",
   "metadata": {},
   "outputs": [
    {
     "name": "stdout",
     "output_type": "stream",
     "text": [
      "Dim:(960, 1600, 3)\n"
     ]
    }
   ],
   "source": [
    "file = 'control_img_2.jpg'\n",
    "#file = 'fig_true_19.jpg'\n",
    "#file = 'pre_control1.jpg'\n",
    "#file = 'fig_control_5.jpg'\n",
    "\n",
    "bgr = cv.imread(file, cv.IMREAD_UNCHANGED) #also por fig_control_1.jpg \n",
    "#bgr = cv.resize(bgr, (780, 1040)) #restrict area cols, lin\n",
    "print('Dim:' + str(bgr.shape))\n",
    "#cv.imshow('bgr original img', bgr)\n",
    "#cv.waitKey(0)  \n",
    "#cv.destroyAllWindows() \n"
   ]
  },
  {
   "cell_type": "markdown",
   "id": "worse-storage",
   "metadata": {},
   "source": [
    "### Imagem fig_true_19 sem foco na parte superior, remover e definir ROI"
   ]
  },
  {
   "cell_type": "code",
   "execution_count": 145,
   "id": "forty-violin",
   "metadata": {},
   "outputs": [],
   "source": [
    "# Cropping an image\n",
    "#bgr_roi = bgr[43:bgr.shape[0],:,:]"
   ]
  },
  {
   "cell_type": "code",
   "execution_count": 16,
   "id": "satellite-people",
   "metadata": {},
   "outputs": [],
   "source": [
    "#print(bgr_roi.shape)"
   ]
  },
  {
   "cell_type": "code",
   "execution_count": 62,
   "id": "split-lesbian",
   "metadata": {},
   "outputs": [],
   "source": [
    "def filtroRGB(src,r,g,b):\n",
    "    imret = src.copy() #na matriz é BGR\n",
    "    if r == 0:\n",
    "        imret[:,:,2] = 0    #elimina o vermelho\n",
    "    if g == 0:\n",
    "        imret[:,:,1] = 0    #elimina o verde\n",
    "    if b == 0:\n",
    "        imret[:,:,0] = 0    #elimina o azul\n",
    "    return imret"
   ]
  },
  {
   "cell_type": "code",
   "execution_count": 63,
   "id": "mental-brooks",
   "metadata": {},
   "outputs": [
    {
     "data": {
      "image/png": "[encoded data removed]",
      "text/plain": [
       "<Figure size 432x288 with 1 Axes>"
      ]
     },
     "metadata": {
      "needs_background": "light"
     },
     "output_type": "display_data"
    }
   ],
   "source": [
    "bgr_split_channels = cv.split(bgr)\n",
    "\n",
    "# numero de bins do histograma\n",
    "hist_size = 256\n",
    "# faixa de valores de cada canal\n",
    "hist_range = (0, 256) #0-255 (8 bits)\n",
    "accumulate = False\n",
    "\n",
    "color = ('b','g','r') #h, s, v\n",
    "for i,col in enumerate(color):\n",
    "    histr = cv.calcHist(bgr_split_channels,[i],None, [hist_size], hist_range, accumulate=accumulate)\n",
    "    plt.plot(histr, color = col)\n",
    "    plt.xlim([0,256])\n",
    "plt.show()"
   ]
  },
  {
   "cell_type": "code",
   "execution_count": 64,
   "id": "talented-discovery",
   "metadata": {},
   "outputs": [],
   "source": [
    "#desaturation - convert bgr to gray for limiarization\n",
    "gray = cv.cvtColor(bgr, cv.COLOR_BGR2GRAY)\n",
    "\n",
    "#im_test = cv.cvtColor(bgr, cv.COLOR_BGR2HSV)\n",
    "\n",
    "im_test = filtroRGB(bgr, 0,0,1)\n",
    "\n",
    "cv.imshow('im_test', im_test)\n",
    "cv.waitKey(0)  \n",
    "cv.destroyAllWindows()"
   ]
  },
  {
   "cell_type": "code",
   "execution_count": 65,
   "id": "chemical-killing",
   "metadata": {},
   "outputs": [],
   "source": [
    "#auto otsu\n",
    "#can be applied to uni e bimodal histograms\n",
    "# segmentation based on shape, pixels (color), histogram\n",
    "# binary segmentation - binarization, thresholding - only B channel\n",
    "ret,th = cv.threshold(bgr[:,:,0], 0, 255,cv.THRESH_BINARY+cv.THRESH_OTSU)\n",
    "#cv.imshow('segmented img', th)\n",
    "#cv.waitKey(0)  \n",
    "#cv.destroyAllWindows()"
   ]
  },
  {
   "cell_type": "code",
   "execution_count": 66,
   "id": "baking-engagement",
   "metadata": {},
   "outputs": [
    {
     "name": "stdout",
     "output_type": "stream",
     "text": [
      "Foram encontrados 585 objetos com seus contornos\n"
     ]
    }
   ],
   "source": [
    "#contours, hierarchy = cv.findContours(th, cv.RETR_TREE, cv.CHAIN_APPROX_SIMPLE)\n",
    "#contours, hierarchy = cv.findContours(th, cv.RETR_TREE, cv.CHAIN_APPROX_NONE)\n",
    "contours, hierarchy = cv.findContours(th, cv.RETR_EXTERNAL, cv.CHAIN_APPROX_SIMPLE)\n",
    "#contours, hierarchy = cv.findContours(th, cv.RETR_EXTERNAL, cv.CHAIN_APPROX_NONE)\n",
    "#contours, hierarchy = cv.findContours(th, cv.RETR_CCOMP, cv.CHAIN_APPROX_NONE)\n",
    "#contours, hierarchy = cv.findContours(th, cv.RETR_CCOMP, cv.CHAIN_APPROX_SIMPLE)\n",
    "print ('Foram encontrados ' + str(len(contours)) + ' objetos com seus contornos')\n",
    "\n",
    "cv.drawContours(bgr, contours, -1, (0,242,255), 2)\n",
    "cv.imshow('contours', bgr)\n",
    "cv.waitKey(0)\n",
    "cv.destroyAllWindows()\n",
    "\n",
    "#print(hierarchy) - estudar hierarquia dos contornos"
   ]
  },
  {
   "cell_type": "code",
   "execution_count": 67,
   "id": "anonymous-pantyhose",
   "metadata": {},
   "outputs": [],
   "source": [
    "def extract_image(im, cnt):\n",
    "  # np.zeros: Cria uma matriz com determinadas dimensões\n",
    "  im_blank = np.zeros(im.shape, np.uint8) \n",
    "  cv.drawContours(im_blank, [cnt], -1, 255, -1)\n",
    "  mask = im_blank == 255\n",
    "  im_filter = im[mask]\n",
    "  return im_filter"
   ]
  },
  {
   "cell_type": "code",
   "execution_count": 159,
   "id": "dying-oliver",
   "metadata": {},
   "outputs": [],
   "source": [
    "#https://docs.opencv.org/3.4/dd/d49/tutorial_py_contour_features.html\n",
    "areas = []\n",
    "perimeters = []\n",
    "centroids_x = []\n",
    "centroids_y = []\n",
    "aspect_ratio = [] #It is the ratio of width to height of bounding rect of the object.\n",
    "extent = [] #Extent is the ratio of contour area to bounding rectangle area.\n",
    "solidity = [] #Solidity is the ratio of contour area to its convex hull area.\n",
    "equivalent_diameter = [] #Equivalent Diameter is the diameter of the circle whose area is same as the contour area.\n",
    "r_mean = []\n",
    "r_min = []\n",
    "r_max = []\n",
    "r_std = []\n",
    "g_mean = []\n",
    "g_min = []\n",
    "g_max = []\n",
    "g_std = []\n",
    "b_mean = []\n",
    "b_min = []\n",
    "b_max = []\n",
    "b_std = []\n",
    "width = []\n",
    "height = []\n",
    "angle = []\n",
    "radius = []\n",
    "\n",
    "for c in contours:\n",
    "    M = cv.moments(c)\n",
    "    \n",
    "    areas.append(M['m00'])\n",
    "    perimeters.append(cv.arcLength(c,True)) #if not convex, False\n",
    "    \n",
    "    x,y,w,h = cv.boundingRect(c)\n",
    "    aspect_ratio.append(float(w)/h)\n",
    "    width.append(w)\n",
    "    height.append(h)\n",
    "    rect = cv.minAreaRect(c)\n",
    "    circle = cv.minEnclosingCircle(c)\n",
    "    angle.append(rect[2])\n",
    "    radius.append(circle[1])\n",
    "    \n",
    "    rect_area = w*h\n",
    "    if rect_area > 0:\n",
    "        extent.append(M['m00']/rect_area)\n",
    "    else: \n",
    "        extent.append(0)\n",
    "    \n",
    "    hull = cv.convexHull(c)\n",
    "    hull_area = cv.contourArea(hull)\n",
    "    if hull_area > 0:\n",
    "        solidity.append(M['m00']/hull_area)\n",
    "    else:\n",
    "        solidity.append(0)\n",
    "    \n",
    "    equivalent_diameter = np.sqrt(4*M['m00']/np.pi)\n",
    "    \n",
    "    if M['m00'] != 0:\n",
    "        centroids_x.append(M['m10']/M['m00'])\n",
    "        centroids_y.append(M['m01']/M['m00'])\n",
    "    else:\n",
    "        centroids_x.append(0)\n",
    "        centroids_y.append(0)\n",
    "        \n",
    "    r = extract_image(bgr_split_channels[2], c)\n",
    "    g = extract_image(bgr_split_channels[1], c)\n",
    "    b = extract_image(bgr_split_channels[0], c)\n",
    "    \n",
    "    r_mean.append(np.mean(r))\n",
    "    r_max.append(np.max(r))\n",
    "    r_min.append(np.min(r))\n",
    "    r_std.append(np.std(r))\n",
    "    g_mean.append(np.mean(g))\n",
    "    g_max.append(np.max(g))\n",
    "    g_min.append(np.min(g))\n",
    "    g_std.append(np.std(g))\n",
    "    b_mean.append(np.mean(b))\n",
    "    b_max.append(np.max(b))\n",
    "    b_min.append(np.min(b))\n",
    "    b_std.append(np.std(b))\n",
    "    \n",
    "        \n"
   ]
  },
  {
   "cell_type": "code",
   "execution_count": 197,
   "id": "floppy-farming",
   "metadata": {},
   "outputs": [],
   "source": [
    "#features = [areas, perimeters, aspect_ratio, extent, solidity, equivalent_diameter]\n",
    "\n",
    "#interest_area_contours = sum(areas)/total_area\n",
    "#print(interest_area_contours)\n",
    "\n",
    "import pandas as pd\n",
    "#d = {'area': areas, 'perimiter': perimeters}\n",
    "#d = {'centroid_x': centroids_x, 'centroid_y': centroids_y, 'area': areas, 'perimiter': perimeters}\n",
    "features_1 = {'area': areas, 'perimiter': perimeters, 'aspect_ratio': aspect_ratio, \n",
    "            'extent': extent, 'solidity': solidity, 'equivalent_diameter': equivalent_diameter,\n",
    "            'r_mean': r_mean, 'r_max': r_max, 'r_min': r_min, 'r_std': r_std,\n",
    "            'g_mean': g_mean, 'g_max': g_max, 'g_min': g_min, 'g_std': g_std,\n",
    "            'b_mean': b_mean, 'b_max': b_max, 'b_min': b_min, 'b_std': b_std,\n",
    "            'width': width, 'height': height, 'angle': angle, 'radius': radius\n",
    "}\n",
    "\n",
    "features_2 = {'area': areas, 'perimiter': perimeters, 'aspect_ratio': aspect_ratio, \n",
    "            'extent': extent, 'solidity': solidity, 'equivalent_diameter': equivalent_diameter\n",
    "}\n",
    "\n",
    "features_3 = {'r_mean': r_mean, 'r_max': r_max, 'r_min': r_min, 'r_std': r_std,\n",
    "            'g_mean': g_mean, 'g_max': g_max, 'g_min': g_min, 'g_std': g_std,\n",
    "            'b_mean': b_mean, 'b_max': b_max, 'b_min': b_min, 'b_std': b_std\n",
    "}\n",
    "\n",
    "#só medias não funciona\n",
    "#features_4 = {'r_mean': r_mean, 'g_mean': g_mean, 'b_mean': b_mean}\n",
    "\n",
    "features_5 = {'r_mean': r_mean, 'g_mean': g_mean, 'b_mean': b_mean,\n",
    "             'area': areas, 'perimiter': perimeters, 'aspect_ratio': aspect_ratio, \n",
    "             'extent': extent, 'solidity': solidity, 'equivalent_diameter': equivalent_diameter\n",
    "}\n",
    "\n",
    "features_6 = {'r_mean': r_mean, 'r_max': r_max, 'r_min': r_min, 'r_std': r_std,\n",
    "            'g_mean': g_mean, 'g_max': g_max, 'g_min': g_min, 'g_std': g_std,\n",
    "            'b_mean': b_mean, 'b_max': b_max, 'b_min': b_min, 'b_std': b_std,\n",
    "             'extent': extent, 'solidity': solidity, 'equivalent_diameter': equivalent_diameter \n",
    "}\n",
    "\n",
    "features_7 = {'r_mean': r_mean, 'r_max': r_max, 'r_min': r_min, 'r_std': r_std,\n",
    "            'g_mean': g_mean, 'g_max': g_max, 'g_min': g_min, 'g_std': g_std,\n",
    "            'b_mean': b_mean, 'b_max': b_max, 'b_min': b_min, 'b_std': b_std,\n",
    "             'extent': extent, 'solidity': solidity \n",
    "}\n",
    "\n",
    "features_8 = {'r_mean': r_mean, 'r_max': r_max, 'r_min': r_min, 'r_std': r_std,\n",
    "            'g_mean': g_mean, 'g_max': g_max, 'g_min': g_min, 'g_std': g_std,\n",
    "            'b_mean': b_mean, 'b_max': b_max, 'b_min': b_min, 'b_std': b_std,\n",
    "             'extent': extent, 'equivalent_diameter': equivalent_diameter, 'perimiter': perimeters\n",
    "}\n",
    "\n",
    "features_9 = {'r_mean': r_mean, 'r_max': r_max, 'r_min': r_min, 'r_std': r_std,\n",
    "            'g_mean': g_mean, 'g_max': g_max, 'g_min': g_min, 'g_std': g_std,\n",
    "            'b_mean': b_mean, 'b_max': b_max, 'b_min': b_min, 'b_std': b_std,\n",
    "             'solidity': solidity , 'equivalent_diameter': equivalent_diameter \n",
    "}\n",
    "\n",
    "features_10 = {'r_max': r_max, 'g_max': g_max, 'b_max': b_max,\n",
    "             'solidity': solidity , 'equivalent_diameter': equivalent_diameter \n",
    "}\n",
    "\n",
    "features_11 = {'r_max': r_max, 'g_max': g_max, 'b_max': b_max,\n",
    "               'r_min': r_min, 'g_min': g_min, 'b_min': b_min,\n",
    "             'solidity': solidity , 'equivalent_diameter': equivalent_diameter \n",
    "}\n",
    "\n",
    "df = pd.DataFrame(data=features_8)\n",
    "#print(df.describe())\n",
    "#df.head()"
   ]
  },
  {
   "cell_type": "code",
   "execution_count": 198,
   "id": "integral-decision",
   "metadata": {},
   "outputs": [
    {
     "data": {
      "text/plain": [
       "KMeans(algorithm='full', n_clusters=3)"
      ]
     },
     "execution_count": 198,
     "metadata": {},
     "output_type": "execute_result"
    }
   ],
   "source": [
    "from sklearn.cluster import KMeans\n",
    "\n",
    "n_clusters = 3\n",
    "\n",
    "kmeans = KMeans(n_clusters=n_clusters, init='k-means++', n_init=10, algorithm='full') #auto, full, elkan\n",
    "kmeans.fit(df) # Metodo fit"
   ]
  },
  {
   "cell_type": "code",
   "execution_count": 199,
   "id": "indoor-prescription",
   "metadata": {},
   "outputs": [
    {
     "name": "stdout",
     "output_type": "stream",
     "text": [
      "class 0: 555 individuals\n",
      "class 1: 4 individuals\n",
      "class 2: 26 individuals\n",
      "class 3: 0 individuals\n"
     ]
    }
   ],
   "source": [
    "conts = [[],[],[],[]] #contour list\n",
    "\n",
    "for cont, cnt in enumerate(contours):\n",
    "    class_ = kmeans.predict([df.iloc[cont]])[0]\n",
    "    conts[class_].append(cnt)\n",
    "    \n",
    "if n_clusters == 3:\n",
    "    im = cv.drawContours(bgr, conts[0], -1, (0, 0, 0), thickness=2)\n",
    "    im = cv.drawContours(im, conts[1], -1, (20, 150, 232), thickness=2)\n",
    "    im = cv.drawContours(im, conts[2], -1, (82, 184, 10), thickness=2)\n",
    "elif n_clusters == 2:\n",
    "    im = cv.drawContours(bgr, conts[0], -1, (0, 0, 0), thickness=2)\n",
    "    im = cv.drawContours(im, conts[1], -1, (20, 150, 232), thickness=2)\n",
    "\n",
    "cv.imwrite('clustered_' + file, im)\n",
    "            \n",
    "print('class 0: ' + str(len(conts[0])) + ' individuals')\n",
    "print('class 1: ' + str(len(conts[1])) + ' individuals')\n",
    "print('class 2: ' + str(len(conts[2])) + ' individuals')\n",
    "print('class 3: ' + str(len(conts[3])) + ' individuals')\n",
    "\n",
    "cv.imshow('clustered image', im)\n",
    "cv.waitKey(0)\n",
    "cv.destroyAllWindows()"
   ]
  }
 ],
 "metadata": {
  "kernelspec": {
   "display_name": "Python 3",
   "language": "python",
   "name": "python3"
  },
  "language_info": {
   "codemirror_mode": {
    "name": "ipython",
    "version": 3
   },
   "file_extension": ".py",
   "mimetype": "text/x-python",
   "name": "python",
   "nbconvert_exporter": "python",
   "pygments_lexer": "ipython3",
   "version": "3.8.5"
  }
 },
 "nbformat": 4,
 "nbformat_minor": 5
}
