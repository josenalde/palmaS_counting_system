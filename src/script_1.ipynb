{
 "cells": [
  {
   "cell_type": "markdown",
   "id": "stopped-entity",
   "metadata": {},
   "source": [
    "## Proof of concept - geometric features for clustering\n",
    "By Oliveira, J. B (2022...)\n",
    "\n",
    "Consider a control image with a number of white circles, with different radius"
   ]
  },
  {
   "cell_type": "code",
   "execution_count": 76,
   "id": "smaller-revolution",
   "metadata": {},
   "outputs": [],
   "source": [
    "import cv2 as cv\n",
    "import numpy as np"
   ]
  },
  {
   "cell_type": "code",
   "execution_count": 141,
   "id": "quick-percentage",
   "metadata": {},
   "outputs": [
    {
     "name": "stdout",
     "output_type": "stream",
     "text": [
      "Dim:(800, 800, 3)\n"
     ]
    }
   ],
   "source": [
    "bgr = cv.imread('fig_control_1.jpg') #if male were more white than female, ok\n",
    "print('Dim:' + str(bgr.shape))\n",
    "cv.imshow('bgr original img', bgr)\n",
    "cv.waitKey(0)  \n",
    "cv.destroyAllWindows() \n",
    "#bgr = cv.resize(bgr, (780, 1040)) #restrict area cols, lin"
   ]
  },
  {
   "cell_type": "code",
   "execution_count": 142,
   "id": "compound-veteran",
   "metadata": {},
   "outputs": [],
   "source": [
    "#desaturation - convert bgr to gray\n",
    "gray = cv.cvtColor(bgr, cv.COLOR_BGR2GRAY)"
   ]
  },
  {
   "cell_type": "code",
   "execution_count": 79,
   "id": "flying-party",
   "metadata": {},
   "outputs": [],
   "source": [
    "cv.imshow('gray img', gray)\n",
    "cv.waitKey(0)  \n",
    "cv.destroyAllWindows() "
   ]
  },
  {
   "cell_type": "code",
   "execution_count": 143,
   "id": "sealed-pound",
   "metadata": {},
   "outputs": [
    {
     "name": "stdout",
     "output_type": "stream",
     "text": [
      "152.0\n"
     ]
    }
   ],
   "source": [
    "#auto otsu\n",
    "#can be applied to uni e bimodal histograms\n",
    "# segmentation based on shape, pixels (color), histogram\n",
    "# binary segmentation - binarization, thresholding\n",
    "\n",
    "ret,th = cv.threshold(gray,0,255,cv.THRESH_BINARY+cv.THRESH_OTSU)\n",
    "print(ret)\n",
    "cv.imshow('segmented img', th)\n",
    "cv.waitKey(0)  \n",
    "cv.destroyAllWindows()"
   ]
  },
  {
   "cell_type": "code",
   "execution_count": 39,
   "id": "lucky-turtle",
   "metadata": {},
   "outputs": [
    {
     "name": "stdout",
     "output_type": "stream",
     "text": [
      "Interest area: 6.426875 %\n"
     ]
    }
   ],
   "source": [
    "# sum all white pixels (integral)\n",
    "n_pixels_white = 0\n",
    "for i in range(th.shape[0]):\n",
    "    for j in range(th.shape[1]):\n",
    "        if th[i,j] == 255:\n",
    "            n_pixels_white += 1\n",
    "            \n",
    "total_area = th.shape[0]*th.shape[1]\n",
    "interest_area = n_pixels_white/total_area\n",
    "print('Interest area: ' + str(interest_area*100) + ' %')"
   ]
  },
  {
   "cell_type": "code",
   "execution_count": 144,
   "id": "tight-rochester",
   "metadata": {},
   "outputs": [
    {
     "name": "stdout",
     "output_type": "stream",
     "text": [
      "487\n",
      "<class 'list'>\n"
     ]
    }
   ],
   "source": [
    "#here the objects areas are convex (closed)\n",
    "\n",
    "contours, hierarchy = cv.findContours(th, cv.RETR_TREE, cv.CHAIN_APPROX_NONE)\n",
    "print (str(len(contours)))\n",
    "print(type(contours))\n",
    "cv.drawContours(bgr, contours, -1,(0,242,255), 2)\n",
    "cv.imshow('contours', bgr)\n",
    "cv.waitKey(0)\n",
    "cv.destroyAllWindows()\n"
   ]
  },
  {
   "cell_type": "code",
   "execution_count": 145,
   "id": "capital-fraud",
   "metadata": {},
   "outputs": [
    {
     "name": "stdout",
     "output_type": "stream",
     "text": [
      "487\n",
      "487\n"
     ]
    }
   ],
   "source": [
    "#https://docs.opencv.org/3.4/dd/d49/tutorial_py_contour_features.html\n",
    "areas = []\n",
    "perimeters = []\n",
    "centroids_x = []\n",
    "centroids_y = []\n",
    "for c in contours:\n",
    "    M = cv.moments(c)\n",
    "    areas.append(M['m00'])\n",
    "    perimeters.append(cv.arcLength(c,True)) #if not convex, False\n",
    "    if M['m00'] != 0:\n",
    "        centroids_x.append(M['m10']/M['m00'])\n",
    "        centroids_y.append(M['m01']/M['m00'])\n",
    "    else:\n",
    "        centroids_x.append(0)\n",
    "        centroids_y.append(0)\n",
    "        \n",
    "print(len(areas))\n",
    "print(len(perimeters))\n",
    "#print(areas) outliers\n"
   ]
  },
  {
   "cell_type": "code",
   "execution_count": 146,
   "id": "latin-shade",
   "metadata": {},
   "outputs": [
    {
     "name": "stdout",
     "output_type": "stream",
     "text": [
      "              area   perimiter\n",
      "count   487.000000  487.000000\n",
      "mean     47.635524   12.594081\n",
      "std     230.155539   23.205022\n",
      "min       1.000000    4.000000\n",
      "25%       1.000000    4.000000\n",
      "50%       2.000000    6.000000\n",
      "75%       7.000000   10.242641\n",
      "max    2349.500000  188.509666\n"
     ]
    }
   ],
   "source": [
    "features = [areas, perimeters]\n",
    "\n",
    "import pandas as pd\n",
    "d = {'area': areas, 'perimiter': perimeters}\n",
    "#d = {'centroid_x': centroids_x, 'centroid_y': centroids_y, 'area': areas, 'perimiter': perimeters}\n",
    "df = pd.DataFrame(data=d)\n",
    "df\n",
    "print(df.describe())"
   ]
  },
  {
   "cell_type": "code",
   "execution_count": 147,
   "id": "military-validation",
   "metadata": {},
   "outputs": [
    {
     "data": {
      "text/plain": [
       "KMeans(n_clusters=4)"
      ]
     },
     "execution_count": 147,
     "metadata": {},
     "output_type": "execute_result"
    }
   ],
   "source": [
    "from sklearn.cluster import KMeans\n",
    "import numpy as np\n",
    "kmeans = KMeans(n_clusters=4)\n",
    "kmeans.fit(df) # Metodo fit\n",
    "\n"
   ]
  },
  {
   "cell_type": "code",
   "execution_count": 148,
   "id": "colored-savage",
   "metadata": {},
   "outputs": [
    {
     "name": "stdout",
     "output_type": "stream",
     "text": [
      "class 0: 457 individuals\n",
      "class 1: 5 individuals\n",
      "class 2: 7 individuals\n",
      "class 3: 18 individuals\n"
     ]
    }
   ],
   "source": [
    "conts = [[],[],[],[]] #contour list\n",
    "\n",
    "for cont, cnt in enumerate(contours):\n",
    "    class_ = kmeans.predict([df.iloc[cont]])[0]\n",
    "    conts[class_].append(cnt)\n",
    "    \n",
    "im = cv.drawContours(bgr, conts[0], -1, (0, 0, 0), thickness=2)\n",
    "im = cv.drawContours(im, conts[1], -1, (20, 150, 232), thickness=2)\n",
    "im = cv.drawContours(im, conts[2], -1, (82, 184, 10), thickness=2)\n",
    "im = cv.drawContours(im, conts[3], -1, (0, 262, 255), thickness=2)\n",
    "\n",
    "print('class 0: ' + str(len(conts[0])) + ' individuals')\n",
    "print('class 1: ' + str(len(conts[1])) + ' individuals')\n",
    "print('class 2: ' + str(len(conts[2])) + ' individuals')\n",
    "print('class 3: ' + str(len(conts[3])) + ' individuals')\n",
    "\n",
    "cv.imshow('clustered image', im)\n",
    "cv.waitKey(0)\n",
    "cv.destroyAllWindows()"
   ]
  },
  {
   "cell_type": "code",
   "execution_count": null,
   "id": "preliminary-imaging",
   "metadata": {},
   "outputs": [],
   "source": []
  }
 ],
 "metadata": {
  "kernelspec": {
   "display_name": "Python 3",
   "language": "python",
   "name": "python3"
  },
  "language_info": {
   "codemirror_mode": {
    "name": "ipython",
    "version": 3
   },
   "file_extension": ".py",
   "mimetype": "text/x-python",
   "name": "python",
   "nbconvert_exporter": "python",
   "pygments_lexer": "ipython3",
   "version": "3.8.5"
  }
 },
 "nbformat": 4,
 "nbformat_minor": 5
}
