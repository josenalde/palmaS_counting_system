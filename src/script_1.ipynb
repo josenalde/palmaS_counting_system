{
 "cells": [
  {
   "cell_type": "markdown",
   "id": "stopped-entity",
   "metadata": {},
   "source": [
    "## Proof of concept - geometric features for clustering\n",
    "By Oliveira, J. B (2022...)\n",
    "\n",
    "Consider a control image with a number of white circles, with different radius\n",
    "\n",
    "<img src='fig_control_5.jpg'>"
   ]
  },
  {
   "cell_type": "code",
   "execution_count": 1,
   "id": "smaller-revolution",
   "metadata": {},
   "outputs": [],
   "source": [
    "import cv2 as cv\n",
    "import numpy as np"
   ]
  },
  {
   "cell_type": "code",
   "execution_count": 2,
   "id": "quick-percentage",
   "metadata": {},
   "outputs": [
    {
     "name": "stdout",
     "output_type": "stream",
     "text": [
      "Dim:(800, 800, 3)\n"
     ]
    }
   ],
   "source": [
    "bgr = cv.imread('fig_control_5.jpg') #also por fig_control_1.jpg \n",
    "print('Dim:' + str(bgr.shape))\n",
    "cv.imshow('bgr original img', bgr)\n",
    "cv.waitKey(0)  \n",
    "cv.destroyAllWindows() \n",
    "#bgr = cv.resize(bgr, (780, 1040)) #restrict area cols, lin"
   ]
  },
  {
   "cell_type": "code",
   "execution_count": 3,
   "id": "compound-veteran",
   "metadata": {},
   "outputs": [],
   "source": [
    "#desaturation - convert bgr to gray for limiarization\n",
    "gray = cv.cvtColor(bgr, cv.COLOR_BGR2GRAY)"
   ]
  },
  {
   "cell_type": "code",
   "execution_count": 4,
   "id": "sealed-pound",
   "metadata": {},
   "outputs": [
    {
     "name": "stdout",
     "output_type": "stream",
     "text": [
      "153.0\n"
     ]
    }
   ],
   "source": [
    "#auto otsu\n",
    "#can be applied to uni e bimodal histograms\n",
    "# segmentation based on shape, pixels (color), histogram\n",
    "# binary segmentation - binarization, thresholding\n",
    "\n",
    "ret,th = cv.threshold(gray,0,255,cv.THRESH_BINARY+cv.THRESH_OTSU)\n",
    "print(ret)\n",
    "cv.imshow('segmented img', th)\n",
    "cv.waitKey(0)  \n",
    "cv.destroyAllWindows()"
   ]
  },
  {
   "cell_type": "code",
   "execution_count": 13,
   "id": "lucky-turtle",
   "metadata": {},
   "outputs": [
    {
     "name": "stdout",
     "output_type": "stream",
     "text": [
      "Interest area: 6.426875 %\n"
     ]
    }
   ],
   "source": [
    "# sum all white pixels (integral)\n",
    "n_pixels_white = 0\n",
    "for i in range(th.shape[0]):\n",
    "    for j in range(th.shape[1]):\n",
    "        if th[i,j] == 255:\n",
    "            n_pixels_white += 1\n",
    "            \n",
    "total_area = th.shape[0]*th.shape[1]\n",
    "interest_area = n_pixels_white/total_area\n",
    "print('Interest area: ' + str(interest_area*100) + ' %')"
   ]
  },
  {
   "cell_type": "code",
   "execution_count": 5,
   "id": "tight-rochester",
   "metadata": {},
   "outputs": [
    {
     "name": "stdout",
     "output_type": "stream",
     "text": [
      "491\n",
      "<class 'list'>\n"
     ]
    }
   ],
   "source": [
    "#here the objects areas are convex (closed)\n",
    "\n",
    "contours, hierarchy = cv.findContours(th, cv.RETR_TREE, cv.CHAIN_APPROX_NONE)\n",
    "print (str(len(contours)))\n",
    "print(type(contours))\n",
    "cv.drawContours(bgr, contours, -1,(0,242,255), 2)\n",
    "cv.imshow('contours', bgr)\n",
    "cv.waitKey(0)\n",
    "cv.destroyAllWindows()\n"
   ]
  },
  {
   "cell_type": "code",
   "execution_count": 7,
   "id": "capital-fraud",
   "metadata": {},
   "outputs": [
    {
     "name": "stdout",
     "output_type": "stream",
     "text": [
      "491\n",
      "491\n"
     ]
    }
   ],
   "source": [
    "#https://docs.opencv.org/3.4/dd/d49/tutorial_py_contour_features.html\n",
    "areas = []\n",
    "perimeters = []\n",
    "centroids_x = []\n",
    "centroids_y = []\n",
    "for c in contours:\n",
    "    M = cv.moments(c)\n",
    "    areas.append(M['m00'])\n",
    "    perimeters.append(cv.arcLength(c,True)) #if not convex, False\n",
    "    if M['m00'] != 0:\n",
    "        centroids_x.append(M['m10']/M['m00'])\n",
    "        centroids_y.append(M['m01']/M['m00'])\n",
    "    else:\n",
    "        centroids_x.append(0)\n",
    "        centroids_y.append(0)\n",
    "        \n",
    "print(len(areas))\n",
    "print(len(perimeters))\n",
    "#print(areas) outliers\n"
   ]
  },
  {
   "cell_type": "code",
   "execution_count": 14,
   "id": "latin-shade",
   "metadata": {},
   "outputs": [
    {
     "name": "stdout",
     "output_type": "stream",
     "text": [
      "0.05844921875\n",
      "              area   perimiter\n",
      "count   491.000000  491.000000\n",
      "mean     76.186354   14.975566\n",
      "std     329.084536   30.107472\n",
      "min       0.000000    2.000000\n",
      "25%       1.000000    4.000000\n",
      "50%       2.000000    5.656854\n",
      "75%       8.000000   10.828427\n",
      "max    2348.500000  188.509666\n"
     ]
    }
   ],
   "source": [
    "features = [areas, perimeters]\n",
    "\n",
    "interest_area_contours = sum(areas)/total_area\n",
    "print(interest_area_contours)\n",
    "\n",
    "import pandas as pd\n",
    "d = {'area': areas, 'perimiter': perimeters}\n",
    "#d = {'centroid_x': centroids_x, 'centroid_y': centroids_y, 'area': areas, 'perimiter': perimeters}\n",
    "df = pd.DataFrame(data=d)\n",
    "df\n",
    "print(df.describe())"
   ]
  },
  {
   "cell_type": "code",
   "execution_count": 9,
   "id": "military-validation",
   "metadata": {},
   "outputs": [
    {
     "data": {
      "text/plain": [
       "KMeans(n_clusters=4)"
      ]
     },
     "execution_count": 9,
     "metadata": {},
     "output_type": "execute_result"
    }
   ],
   "source": [
    "from sklearn.cluster import KMeans\n",
    "import numpy as np\n",
    "kmeans = KMeans(n_clusters=4)\n",
    "kmeans.fit(df) # Metodo fit\n",
    "\n"
   ]
  },
  {
   "cell_type": "code",
   "execution_count": 11,
   "id": "colored-savage",
   "metadata": {},
   "outputs": [
    {
     "name": "stdout",
     "output_type": "stream",
     "text": [
      "class 0: 453 individuals\n",
      "class 1: 10 individuals\n",
      "class 2: 10 individuals\n",
      "class 3: 18 individuals\n"
     ]
    }
   ],
   "source": [
    "conts = [[],[],[],[]] #contour list\n",
    "\n",
    "for cont, cnt in enumerate(contours):\n",
    "    class_ = kmeans.predict([df.iloc[cont]])[0]\n",
    "    conts[class_].append(cnt)\n",
    "    \n",
    "im = cv.drawContours(bgr, conts[0], -1, (0, 0, 0), thickness=2)\n",
    "im = cv.drawContours(im, conts[1], -1, (20, 150, 232), thickness=2)\n",
    "im = cv.drawContours(im, conts[2], -1, (82, 184, 10), thickness=2)\n",
    "im = cv.drawContours(im, conts[3], -1, (0, 262, 255), thickness=2)\n",
    "\n",
    "cv.imwrite('clustered_fig_control_5.jpg',im)\n",
    "            \n",
    "print('class 0: ' + str(len(conts[0])) + ' individuals')\n",
    "print('class 1: ' + str(len(conts[1])) + ' individuals')\n",
    "print('class 2: ' + str(len(conts[2])) + ' individuals')\n",
    "print('class 3: ' + str(len(conts[3])) + ' individuals')\n",
    "\n",
    "cv.imshow('clustered image', im)\n",
    "cv.waitKey(0)\n",
    "cv.destroyAllWindows()"
   ]
  },
  {
   "cell_type": "code",
   "execution_count": 17,
   "id": "preliminary-imaging",
   "metadata": {},
   "outputs": [
    {
     "name": "stdout",
     "output_type": "stream",
     "text": [
      "Requirement already satisfied: fuzzy-c-means in c:\\users\\josen\\anaconda3\\lib\\site-packages (1.6.3)\n",
      "Requirement already satisfied: typer<0.4.0,>=0.3.2 in c:\\users\\josen\\anaconda3\\lib\\site-packages (from fuzzy-c-means) (0.3.2)\n",
      "Requirement already satisfied: pydantic<2.0.0,>=1.8.2 in c:\\users\\josen\\anaconda3\\lib\\site-packages (from fuzzy-c-means) (1.8.2)\n",
      "Requirement already satisfied: tabulate<0.9.0,>=0.8.9 in c:\\users\\josen\\anaconda3\\lib\\site-packages (from fuzzy-c-means) (0.8.9)\n",
      "Requirement already satisfied: numpy<2.0.0,>=1.21.1 in c:\\users\\josen\\anaconda3\\lib\\site-packages (from fuzzy-c-means) (1.21.4)\n",
      "Requirement already satisfied: typing-extensions>=3.7.4.3 in c:\\users\\josen\\anaconda3\\lib\\site-packages (from pydantic<2.0.0,>=1.8.2->fuzzy-c-means) (3.7.4.3)\n",
      "Requirement already satisfied: click<7.2.0,>=7.1.1 in c:\\users\\josen\\anaconda3\\lib\\site-packages (from typer<0.4.0,>=0.3.2->fuzzy-c-means) (7.1.2)\n"
     ]
    }
   ],
   "source": [
    "!pip install fuzzy-c-means\n",
    "from fcmeans import FCM\n",
    "fcm = FCM(n_clusters=4)\n",
    "X = df.to_numpy()\n",
    "fcm.fit(X)\n",
    "\n"
   ]
  },
  {
   "cell_type": "markdown",
   "id": "welcome-brick",
   "metadata": {},
   "source": [
    "## In this case, fuzzy c-means gives the same result, since is a toy problem"
   ]
  },
  {
   "cell_type": "code",
   "execution_count": 28,
   "id": "faced-contract",
   "metadata": {},
   "outputs": [
    {
     "name": "stdout",
     "output_type": "stream",
     "text": [
      "class 0: 10 individuals\n",
      "class 1: 453 individuals\n",
      "class 2: 18 individuals\n",
      "class 3: 10 individuals\n"
     ]
    }
   ],
   "source": [
    "conts = [[],[],[],[]] #contour list\n",
    "\n",
    "for cont, cnt in enumerate(contours):\n",
    "    \n",
    "    r = df.iloc[cont].to_numpy()\n",
    "    class_ = fcm.predict(r)\n",
    "    #print(class_)\n",
    "    conts[class_[0]].append(cnt)\n",
    "    \n",
    "im = cv.drawContours(bgr, conts[0], -1, (0, 0, 0), thickness=2)\n",
    "im = cv.drawContours(im, conts[1], -1, (20, 150, 232), thickness=2)\n",
    "im = cv.drawContours(im, conts[2], -1, (82, 184, 10), thickness=2)\n",
    "im = cv.drawContours(im, conts[3], -1, (0, 262, 255), thickness=2)\n",
    "\n",
    "cv.imwrite('fuzzy_clustered_fig_control_5.jpg',im)\n",
    "            \n",
    "print('class 0: ' + str(len(conts[0])) + ' individuals')\n",
    "print('class 1: ' + str(len(conts[1])) + ' individuals')\n",
    "print('class 2: ' + str(len(conts[2])) + ' individuals')\n",
    "print('class 3: ' + str(len(conts[3])) + ' individuals')\n",
    "\n",
    "cv.imshow('fuzzy clustered image', im)\n",
    "cv.waitKey(0)\n",
    "cv.destroyAllWindows()"
   ]
  }
 ],
 "metadata": {
  "kernelspec": {
   "display_name": "Python 3",
   "language": "python",
   "name": "python3"
  },
  "language_info": {
   "codemirror_mode": {
    "name": "ipython",
    "version": 3
   },
   "file_extension": ".py",
   "mimetype": "text/x-python",
   "name": "python",
   "nbconvert_exporter": "python",
   "pygments_lexer": "ipython3",
   "version": "3.8.5"
  }
 },
 "nbformat": 4,
 "nbformat_minor": 5
}
